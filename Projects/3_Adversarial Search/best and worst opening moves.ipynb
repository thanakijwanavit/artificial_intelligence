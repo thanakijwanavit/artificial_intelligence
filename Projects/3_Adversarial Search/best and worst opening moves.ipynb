{
 "cells": [
  {
   "cell_type": "code",
   "execution_count": 1,
   "metadata": {},
   "outputs": [],
   "source": [
    "from isolation import Isolation"
   ]
  },
  {
   "cell_type": "code",
   "execution_count": 5,
   "metadata": {},
   "outputs": [
    {
     "data": {
      "text/plain": [
       "41523161203939122082683632224299007"
      ]
     },
     "execution_count": 5,
     "metadata": {},
     "output_type": "execute_result"
    }
   ],
   "source": [
    "board = state.board\n",
    "board"
   ]
  },
  {
   "cell_type": "code",
   "execution_count": 26,
   "metadata": {},
   "outputs": [
    {
     "data": {
      "text/plain": [
       "[32, 18, 22, 34]"
      ]
     },
     "execution_count": 26,
     "metadata": {},
     "output_type": "execute_result"
    }
   ],
   "source": [
    "state.liberties(7)"
   ]
  },
  {
   "cell_type": "code",
   "execution_count": 27,
   "metadata": {},
   "outputs": [
    {
     "data": {
      "text/plain": [
       "(None, None)"
      ]
     },
     "execution_count": 27,
     "metadata": {},
     "output_type": "execute_result"
    }
   ],
   "source": [
    "state.locs"
   ]
  },
  {
   "cell_type": "code",
   "execution_count": 29,
   "metadata": {},
   "outputs": [
    {
     "data": {
      "text/plain": [
       "0"
      ]
     },
     "execution_count": 29,
     "metadata": {},
     "output_type": "execute_result"
    }
   ],
   "source": [
    "state.player()"
   ]
  },
  {
   "cell_type": "code",
   "execution_count": 32,
   "metadata": {},
   "outputs": [
    {
     "data": {
      "text/plain": [
       "0"
      ]
     },
     "execution_count": 32,
     "metadata": {},
     "output_type": "execute_result"
    }
   ],
   "source": [
    "state.ply_count"
   ]
  },
  {
   "cell_type": "code",
   "execution_count": 36,
   "metadata": {},
   "outputs": [
    {
     "data": {
      "text/plain": [
       "False"
      ]
     },
     "execution_count": 36,
     "metadata": {},
     "output_type": "execute_result"
    }
   ],
   "source": [
    "state.terminal_test()"
   ]
  },
  {
   "cell_type": "code",
   "execution_count": 48,
   "metadata": {},
   "outputs": [
    {
     "data": {
      "text/plain": [
       "[1, 2, 0, 0, 0, 0, 0, 0, 0, 0, 0, 0, 0, 2, 0, 0, 1, 3, 0, 0]"
      ]
     },
     "execution_count": 48,
     "metadata": {},
     "output_type": "execute_result"
    }
   ],
   "source": [
    "score = np.array([8,1,2,1])\n",
    "policy = score / np.sum(score)\n",
    "result = []\n",
    "for i in range(20):\n",
    "    result.append(np.random.choice(np.arange(0,4,1),p=policy))\n",
    "result\n"
   ]
  },
  {
   "cell_type": "code",
   "execution_count": 23,
   "metadata": {},
   "outputs": [],
   "source": [
    "import argparse\n",
    "import json\n",
    "import os\n",
    "import pprint\n"
   ]
  },
  {
   "cell_type": "code",
   "execution_count": 33,
   "metadata": {},
   "outputs": [],
   "source": [
    "def merge_dict_add_value(dict1, dict2):\n",
    "   ''' Merge dictionaries and keep values of common keys in list'''\n",
    "   dict3 = {**dict1, **dict2}\n",
    "   for key, value in dict3.items():\n",
    "       if key in dict1 and key in dict2:\n",
    "               dict3[key] = value + dict1[key]\n",
    " \n",
    "   return dict3\n"
   ]
  },
  {
   "cell_type": "code",
   "execution_count": 45,
   "metadata": {},
   "outputs": [
    {
     "name": "stdout",
     "output_type": "stream",
     "text": [
      "['q1.json', 'q2.json']\n",
      "len of q is 100529\n",
      " len of qs is 96579, len of new q is 100529\n",
      " len of qs is 96579, len of new q is 100530\n"
     ]
    }
   ],
   "source": [
    "files = os.listdir('./q')\n",
    "files_without_main_q = [file for file in files if file not in ['q.json','q_updated.json']]\n",
    "print(files_without_main_q)\n",
    "with open('./q/q.json', 'r') as f:\n",
    "    q=json.load(f)\n",
    "\n",
    "print('len of q is {}'.format(len(q.keys())))\n",
    "    \n",
    "for qs_name in files_without_main_q:\n",
    "    with open('./q/'+qs_name, 'r') as f:\n",
    "        qs = json.load(f)\n",
    "    for key in qs.keys():\n",
    "        if key in q.keys():\n",
    "            q[key] = merge_dict_add_value(q[key],qs[key])\n",
    "        else:\n",
    "            q[key] = qs[key]\n",
    "    print(' len of qs is {}, len of new q is {}'.format(len(qs.keys()),len(q.keys())))     "
   ]
  },
  {
   "cell_type": "code",
   "execution_count": 46,
   "metadata": {},
   "outputs": [],
   "source": [
    "with open('./q/q_updated.json', 'w') as f:\n",
    "    q=json.dump(q,f)\n",
    "    "
   ]
  },
  {
   "cell_type": "code",
   "execution_count": 48,
   "metadata": {},
   "outputs": [
    {
     "data": {
      "text/plain": [
       "100530"
      ]
     },
     "execution_count": 48,
     "metadata": {},
     "output_type": "execute_result"
    }
   ],
   "source": [
    "with open('./q/q_updated.json','r') as f:\n",
    "    output = json.load(f)\n",
    "len(output.keys())"
   ]
  },
  {
   "cell_type": "code",
   "execution_count": 52,
   "metadata": {},
   "outputs": [
    {
     "name": "stdout",
     "output_type": "stream",
     "text": [
      "q1.json\n"
     ]
    },
    {
     "ename": "FileNotFoundError",
     "evalue": "[Errno 2] No such file or directory: './q/q1.json'",
     "output_type": "error",
     "traceback": [
      "\u001b[0;31m---------------------------------------------------------------------------\u001b[0m",
      "\u001b[0;31mFileNotFoundError\u001b[0m                         Traceback (most recent call last)",
      "\u001b[0;32m<ipython-input-52-3f28abcca230>\u001b[0m in \u001b[0;36m<module>\u001b[0;34m\u001b[0m\n\u001b[1;32m      1\u001b[0m \u001b[0;32mfor\u001b[0m \u001b[0mfile_name\u001b[0m \u001b[0;32min\u001b[0m \u001b[0mfiles_without_main_q\u001b[0m\u001b[0;34m:\u001b[0m\u001b[0;34m\u001b[0m\u001b[0;34m\u001b[0m\u001b[0m\n\u001b[1;32m      2\u001b[0m     \u001b[0mprint\u001b[0m\u001b[0;34m(\u001b[0m\u001b[0mfile_name\u001b[0m\u001b[0;34m)\u001b[0m\u001b[0;34m\u001b[0m\u001b[0;34m\u001b[0m\u001b[0m\n\u001b[0;32m----> 3\u001b[0;31m     \u001b[0mos\u001b[0m\u001b[0;34m.\u001b[0m\u001b[0mremove\u001b[0m\u001b[0;34m(\u001b[0m\u001b[0;34m'./q/'\u001b[0m\u001b[0;34m+\u001b[0m\u001b[0mfile_name\u001b[0m\u001b[0;34m)\u001b[0m\u001b[0;34m\u001b[0m\u001b[0;34m\u001b[0m\u001b[0m\n\u001b[0m\u001b[1;32m      4\u001b[0m     \u001b[0mprint\u001b[0m\u001b[0;34m(\u001b[0m\u001b[0mos\u001b[0m\u001b[0;34m.\u001b[0m\u001b[0mlistdir\u001b[0m\u001b[0;34m(\u001b[0m\u001b[0;34m'./q'\u001b[0m\u001b[0;34m)\u001b[0m\u001b[0;34m)\u001b[0m\u001b[0;34m\u001b[0m\u001b[0;34m\u001b[0m\u001b[0m\n",
      "\u001b[0;31mFileNotFoundError\u001b[0m: [Errno 2] No such file or directory: './q/q1.json'"
     ]
    }
   ],
   "source": [
    "for file_name in files_without_main_q:\n",
    "    os.remove('./q/'+file_name)\n"
   ]
  },
  {
   "cell_type": "code",
   "execution_count": 54,
   "metadata": {},
   "outputs": [],
   "source": [
    "os.rename('./q/q_updated.json','./q/q.json')"
   ]
  },
  {
   "cell_type": "code",
   "execution_count": 55,
   "metadata": {},
   "outputs": [
    {
     "data": {
      "text/plain": [
       "['q.json']"
      ]
     },
     "execution_count": 55,
     "metadata": {},
     "output_type": "execute_result"
    }
   ],
   "source": [
    "os.listdir('./q')"
   ]
  },
  {
   "cell_type": "code",
   "execution_count": 56,
   "metadata": {},
   "outputs": [
    {
     "data": {
      "text/plain": [
       "23212"
      ]
     },
     "execution_count": 56,
     "metadata": {},
     "output_type": "execute_result"
    }
   ],
   "source": [
    "np.random.randint(10000,99999)"
   ]
  },
  {
   "cell_type": "code",
   "execution_count": 61,
   "metadata": {},
   "outputs": [
    {
     "name": "stdout",
     "output_type": "stream",
     "text": [
      "hello\n"
     ]
    }
   ],
   "source": [
    "import time\n",
    "time.sleep(1)\n",
    "print('hello')"
   ]
  },
  {
   "cell_type": "code",
   "execution_count": 76,
   "metadata": {},
   "outputs": [],
   "source": [
    "array = ['a','dg','sg','sd','dsg']"
   ]
  },
  {
   "cell_type": "code",
   "execution_count": 77,
   "metadata": {},
   "outputs": [],
   "source": [
    "# array.index()\n",
    "# array[:5]\n",
    "slice = np.random.randint(0,len(array),10)"
   ]
  },
  {
   "cell_type": "code",
   "execution_count": 79,
   "metadata": {},
   "outputs": [],
   "source": [
    "numpy_array = np.array(array)[slice]"
   ]
  },
  {
   "cell_type": "code",
   "execution_count": 80,
   "metadata": {},
   "outputs": [
    {
     "data": {
      "text/plain": [
       "10"
      ]
     },
     "execution_count": 80,
     "metadata": {},
     "output_type": "execute_result"
    }
   ],
   "source": [
    "len(numpy_array)"
   ]
  },
  {
   "cell_type": "code",
   "execution_count": 15,
   "metadata": {},
   "outputs": [],
   "source": [
    "import seaborn as sb\n",
    "import pickle"
   ]
  },
  {
   "cell_type": "code",
   "execution_count": 16,
   "metadata": {},
   "outputs": [],
   "source": [
    "with open('data.pickle', 'rb') as f:\n",
    "    q = pickle.load(f)"
   ]
  },
  {
   "cell_type": "code",
   "execution_count": 39,
   "metadata": {},
   "outputs": [],
   "source": [
    "#opening moves\n",
    "opening_moves = []\n",
    "opening_move_keys = []\n",
    "for key in iter(q.keys()):\n",
    "    if key.ply_count == 1:\n",
    "        opening_moves.append(q[key])\n",
    "        opening_move_keys.append(key)\n",
    "\n"
   ]
  },
  {
   "cell_type": "code",
   "execution_count": 46,
   "metadata": {},
   "outputs": [
    {
     "data": {
      "text/plain": [
       "{Isolation(board=41523161203939122082683632224299006, ply_count=1, locs=(0, None)): 29,\n",
       " Isolation(board=41523161203939122082683632224299005, ply_count=1, locs=(1, None)): 56,\n",
       " Isolation(board=41523161203939122082683632224299003, ply_count=1, locs=(2, None)): 79,\n",
       " Isolation(board=41523161203939122082683632224298999, ply_count=1, locs=(3, None)): 58,\n",
       " Isolation(board=41523161203939122082683632224298991, ply_count=1, locs=(4, None)): 67,\n",
       " Isolation(board=41523161203939122082683632224298975, ply_count=1, locs=(5, None)): 44,\n",
       " Isolation(board=41523161203939122082683632224298943, ply_count=1, locs=(6, None)): 47,\n",
       " Isolation(board=41523161203939122082683632224298879, ply_count=1, locs=(7, None)): 58,\n",
       " Isolation(board=41523161203939122082683632224298751, ply_count=1, locs=(8, None)): 41,\n",
       " Isolation(board=41523161203939122082683632224298495, ply_count=1, locs=(9, None)): 88,\n",
       " Isolation(board=41523161203939122082683632224297983, ply_count=1, locs=(10, None)): 53,\n",
       " Isolation(board=41523161203939122082683632224290815, ply_count=1, locs=(13, None)): 18,\n",
       " Isolation(board=41523161203939122082683632224282623, ply_count=1, locs=(14, None)): 67,\n",
       " Isolation(board=41523161203939122082683632224266239, ply_count=1, locs=(15, None)): 98,\n",
       " Isolation(board=41523161203939122082683632224233471, ply_count=1, locs=(16, None)): 57,\n",
       " Isolation(board=41523161203939122082683632224167935, ply_count=1, locs=(17, None)): 86,\n",
       " Isolation(board=41523161203939122082683632224036863, ply_count=1, locs=(18, None)): 33,\n",
       " Isolation(board=41523161203939122082683632223774719, ply_count=1, locs=(19, None)): 86,\n",
       " Isolation(board=41523161203939122082683632223250431, ply_count=1, locs=(20, None)): 29,\n",
       " Isolation(board=41523161203939122082683632222201855, ply_count=1, locs=(21, None)): 84,\n",
       " Isolation(board=41523161203939122082683632220104703, ply_count=1, locs=(22, None)): 21,\n",
       " Isolation(board=41523161203939122082683632215910399, ply_count=1, locs=(23, None)): 32,\n",
       " Isolation(board=41523161203939122082683632157190143, ply_count=1, locs=(26, None)): 42,\n",
       " Isolation(board=41523161203939122082683632090081279, ply_count=1, locs=(27, None)): 58,\n",
       " Isolation(board=41523161203939122082683631955863551, ply_count=1, locs=(28, None)): 69,\n",
       " Isolation(board=41523161203939122082683631687428095, ply_count=1, locs=(29, None)): 44,\n",
       " Isolation(board=41523161203939122082683631150557183, ply_count=1, locs=(30, None)): 69,\n",
       " Isolation(board=41523161203939122082683630076815359, ply_count=1, locs=(31, None)): 84,\n",
       " Isolation(board=41523161203939122082683627929331711, ply_count=1, locs=(32, None)): 81,\n",
       " Isolation(board=41523161203939122082683623634364415, ply_count=1, locs=(33, None)): 100,\n",
       " Isolation(board=41523161203939122082683615044429823, ply_count=1, locs=(34, None)): 83,\n",
       " Isolation(board=41523161203939122082683597864560639, ply_count=1, locs=(35, None)): 34,\n",
       " Isolation(board=41523161203939122082683563504822271, ply_count=1, locs=(36, None)): 31,\n",
       " Isolation(board=41523161203939122082683082468485119, ply_count=1, locs=(39, None)): 18,\n",
       " Isolation(board=41523161203939122082682532712671231, ply_count=1, locs=(40, None)): 41,\n",
       " Isolation(board=41523161203939122082681433201043455, ply_count=1, locs=(41, None)): 42,\n",
       " Isolation(board=41523161203939122082679234177787903, ply_count=1, locs=(42, None)): 83,\n",
       " Isolation(board=41523161203939122082674836131276799, ply_count=1, locs=(43, None)): 30,\n",
       " Isolation(board=41523161203939122082666040038254591, ply_count=1, locs=(44, None)): 67,\n",
       " Isolation(board=41523161203939122082648447852210175, ply_count=1, locs=(45, None)): 82,\n",
       " Isolation(board=41523161203939122082613263480121343, ply_count=1, locs=(46, None)): 33,\n",
       " Isolation(board=41523161203939122082542894735943679, ply_count=1, locs=(47, None)): 56,\n",
       " Isolation(board=41523161203939122082402157247588351, ply_count=1, locs=(48, None)): 85,\n",
       " Isolation(board=41523161203939122082120682270877695, ply_count=1, locs=(49, None)): 43,\n",
       " Isolation(board=41523161203939122078180032596928511, ply_count=1, locs=(52, None)): 29,\n",
       " Isolation(board=41523161203939122073676432969558015, ply_count=1, locs=(53, None)): 58,\n",
       " Isolation(board=41523161203939122064669233714817023, ply_count=1, locs=(54, None)): 59,\n",
       " Isolation(board=41523161203939122046654835205335039, ply_count=1, locs=(55, None)): 42,\n",
       " Isolation(board=41523161203939122010626038186371071, ply_count=1, locs=(56, None)): 99,\n",
       " Isolation(board=41523161203939121938568444148443135, ply_count=1, locs=(57, None)): 58,\n",
       " Isolation(board=41523161203939121794453256072587263, ply_count=1, locs=(58, None)): 81,\n",
       " Isolation(board=41523161203939121506222879920875519, ply_count=1, locs=(59, None)): 68,\n",
       " Isolation(board=41523161203939120929762127617452031, ply_count=1, locs=(60, None)): 33,\n",
       " Isolation(board=41523161203939119776840623010605055, ply_count=1, locs=(61, None)): 44,\n",
       " Isolation(board=41523161203939117470997613796911103, ply_count=1, locs=(62, None)): 61,\n",
       " Isolation(board=41523161203939085189195484805195775, ply_count=1, locs=(65, None)): 72,\n",
       " Isolation(board=41523161203939048295707337386092543, ply_count=1, locs=(66, None)): 69,\n",
       " Isolation(board=41523161203938974508731042547886079, ply_count=1, locs=(67, None)): 2,\n",
       " Isolation(board=41523161203938826934778452871473151, ply_count=1, locs=(68, None)): 97,\n",
       " Isolation(board=41523161203938531786873273518647295, ply_count=1, locs=(69, None)): 68,\n",
       " Isolation(board=41523161203937941491062914812995583, ply_count=1, locs=(70, None)): 35,\n",
       " Isolation(board=41523161203936760899442197401692159, ply_count=1, locs=(71, None)): 42,\n",
       " Isolation(board=41523161203934399716200762579085311, ply_count=1, locs=(72, None)): 17,\n",
       " Isolation(board=41523161203929677349717892933871615, ply_count=1, locs=(73, None)): 42,\n",
       " Isolation(board=41523161203920232616752153643444223, ply_count=1, locs=(74, None)): 57,\n",
       " Isolation(board=41523161203901343150820675062589439, ply_count=1, locs=(75, None)): 58,\n",
       " Isolation(board=41523161203636890627779974930622463, ply_count=1, locs=(78, None)): 47,\n",
       " Isolation(board=41523161203334659172876317636945919, ply_count=1, locs=(79, None)): 32,\n",
       " Isolation(board=41523161202730196263069003049592831, ply_count=1, locs=(80, None)): 71,\n",
       " Isolation(board=41523161201521270443454373874886655, ply_count=1, locs=(81, None)): 32,\n",
       " Isolation(board=41523161199103418804225115525474303, ply_count=1, locs=(82, None)): 45,\n",
       " Isolation(board=41523161194267715525766598826649599, ply_count=1, locs=(83, None)): 32,\n",
       " Isolation(board=41523161184596308968849565429000191, ply_count=1, locs=(84, None)): 81,\n",
       " Isolation(board=41523161165253495855015498633701375, ply_count=1, locs=(85, None)): 72,\n",
       " Isolation(board=41523161126567869627347365043103743, ply_count=1, locs=(86, None)): 99,\n",
       " Isolation(board=41523161049196617172011097861908479, ply_count=1, locs=(87, None)): 42,\n",
       " Isolation(board=41523160894454112261338563499517951, ply_count=1, locs=(88, None)): 55,\n",
       " Isolation(board=41523158728059043511923082426050559, ply_count=1, locs=(91, None)): 68,\n",
       " Isolation(board=41523156252178964941162532627802111, ply_count=1, locs=(92, None)): 71,\n",
       " Isolation(board=41523151300418807799641433031305215, ply_count=1, locs=(93, None)): 84,\n",
       " Isolation(board=41523141396898493516599233838311423, ply_count=1, locs=(94, None)): 49,\n",
       " Isolation(board=41523121589857864950514835452323839, ply_count=1, locs=(95, None)): 72,\n",
       " Isolation(board=41523081975776607818346038680348671, ply_count=1, locs=(96, None)): 45,\n",
       " Isolation(board=41523002747614093554008445136398335, ply_count=1, locs=(97, None)): 21,\n",
       " Isolation(board=41522844291289065025333258048497663, ply_count=1, locs=(98, None)): 85,\n",
       " Isolation(board=41522527378639007967982883872696319, ply_count=1, locs=(99, None)): 108,\n",
       " Isolation(board=41521893553338893853282135521093631, ply_count=1, locs=(100, None)): 67,\n",
       " Isolation(board=41520625902738665623880638817888255, ply_count=1, locs=(101, None)): 42,\n",
       " Isolation(board=41502878794335470412259684973012991, ply_count=1, locs=(104, None)): 33,\n",
       " Isolation(board=41482596384731818741835737721726975, ply_count=1, locs=(105, None)): 44,\n",
       " Isolation(board=41442031565524515400987843219154943, ply_count=1, locs=(106, None)): 85,\n",
       " Isolation(board=41360901927109908719292054214010879, ply_count=1, locs=(107, None)): 54,\n",
       " Isolation(board=41198642650280695355900476203722751, ply_count=1, locs=(108, None)): 41,\n",
       " Isolation(board=40874124096622268629117320183146495, ply_count=1, locs=(109, None)): 58,\n",
       " Isolation(board=40225086989305415175551008141993983, ply_count=1, locs=(110, None)): 33,\n",
       " Isolation(board=38927012774671708268418384059688959, ply_count=1, locs=(111, None)): 81,\n",
       " Isolation(board=36330864345404294454153135895078911, ply_count=1, locs=(112, None)): 41,\n",
       " Isolation(board=31138567486869466825622639565858815, ply_count=1, locs=(113, None)): 32,\n",
       " Isolation(board=20753973769799811568561646907418623, ply_count=1, locs=(114, None)): 35}"
      ]
     },
     "execution_count": 46,
     "metadata": {},
     "output_type": "execute_result"
    }
   ],
   "source": [
    "dict(zip(opening_move_keys,opening_moves))"
   ]
  },
  {
   "cell_type": "code",
   "execution_count": 101,
   "metadata": {},
   "outputs": [],
   "source": [
    "import copy\n",
    "import random\n",
    "def simulate(board, times = 10):\n",
    "    score = 0\n",
    "    player_id = board.player()+1 %2\n",
    "    for _ in range(times):\n",
    "        new_board = copy.deepcopy(board)\n",
    "        i = 0\n",
    "        while not new_board.terminal_test():\n",
    "            i+=1\n",
    "#             print(i)\n",
    "#             print(new_board.terminal_test())\n",
    "            new_board = new_board.result(random.choice(new_board.actions()))\n",
    "#         print(new_board.utility(player_id))\n",
    "        additional_score =  1 if new_board.utility(player_id) >0 else -1\n",
    "#         print('additialnal score is {}'.format(additional_score))\n",
    "        score += additional_score\n",
    "#         print(score)\n",
    "    return score\n",
    "\n"
   ]
  },
  {
   "cell_type": "code",
   "execution_count": 114,
   "metadata": {},
   "outputs": [
    {
     "data": {
      "text/plain": [
       "{Isolation(board=41523161203939122082683632224299006, ply_count=1, locs=(0, None)): -82,\n",
       " Isolation(board=41523161203939122082683632224299005, ply_count=1, locs=(1, None)): -88,\n",
       " Isolation(board=41523161203939122082683632224299003, ply_count=1, locs=(2, None)): -84,\n",
       " Isolation(board=41523161203939122082683632224298999, ply_count=1, locs=(3, None)): -78,\n",
       " Isolation(board=41523161203939122082683632224298991, ply_count=1, locs=(4, None)): -86,\n",
       " Isolation(board=41523161203939122082683632224298975, ply_count=1, locs=(5, None)): -92,\n",
       " Isolation(board=41523161203939122082683632224298943, ply_count=1, locs=(6, None)): -88,\n",
       " Isolation(board=41523161203939122082683632224298879, ply_count=1, locs=(7, None)): -92,\n",
       " Isolation(board=41523161203939122082683632224298751, ply_count=1, locs=(8, None)): -90,\n",
       " Isolation(board=41523161203939122082683632224298495, ply_count=1, locs=(9, None)): -84,\n",
       " Isolation(board=41523161203939122082683632224297983, ply_count=1, locs=(10, None)): -80,\n",
       " Isolation(board=41523161203939122082683632224290815, ply_count=1, locs=(13, None)): -82,\n",
       " Isolation(board=41523161203939122082683632224282623, ply_count=1, locs=(14, None)): -86,\n",
       " Isolation(board=41523161203939122082683632224266239, ply_count=1, locs=(15, None)): -88,\n",
       " Isolation(board=41523161203939122082683632224233471, ply_count=1, locs=(16, None)): -74,\n",
       " Isolation(board=41523161203939122082683632224167935, ply_count=1, locs=(17, None)): -100,\n",
       " Isolation(board=41523161203939122082683632224036863, ply_count=1, locs=(18, None)): -88,\n",
       " Isolation(board=41523161203939122082683632223774719, ply_count=1, locs=(19, None)): -82,\n",
       " Isolation(board=41523161203939122082683632223250431, ply_count=1, locs=(20, None)): -90,\n",
       " Isolation(board=41523161203939122082683632222201855, ply_count=1, locs=(21, None)): -88,\n",
       " Isolation(board=41523161203939122082683632220104703, ply_count=1, locs=(22, None)): -78,\n",
       " Isolation(board=41523161203939122082683632215910399, ply_count=1, locs=(23, None)): -88,\n",
       " Isolation(board=41523161203939122082683632157190143, ply_count=1, locs=(26, None)): -78,\n",
       " Isolation(board=41523161203939122082683632090081279, ply_count=1, locs=(27, None)): -82,\n",
       " Isolation(board=41523161203939122082683631955863551, ply_count=1, locs=(28, None)): -80,\n",
       " Isolation(board=41523161203939122082683631687428095, ply_count=1, locs=(29, None)): -94,\n",
       " Isolation(board=41523161203939122082683631150557183, ply_count=1, locs=(30, None)): -84,\n",
       " Isolation(board=41523161203939122082683630076815359, ply_count=1, locs=(31, None)): -92,\n",
       " Isolation(board=41523161203939122082683627929331711, ply_count=1, locs=(32, None)): -82,\n",
       " Isolation(board=41523161203939122082683623634364415, ply_count=1, locs=(33, None)): -92,\n",
       " Isolation(board=41523161203939122082683615044429823, ply_count=1, locs=(34, None)): -86,\n",
       " Isolation(board=41523161203939122082683597864560639, ply_count=1, locs=(35, None)): -94,\n",
       " Isolation(board=41523161203939122082683563504822271, ply_count=1, locs=(36, None)): -92,\n",
       " Isolation(board=41523161203939122082683082468485119, ply_count=1, locs=(39, None)): -92,\n",
       " Isolation(board=41523161203939122082682532712671231, ply_count=1, locs=(40, None)): -82,\n",
       " Isolation(board=41523161203939122082681433201043455, ply_count=1, locs=(41, None)): -88,\n",
       " Isolation(board=41523161203939122082679234177787903, ply_count=1, locs=(42, None)): -82,\n",
       " Isolation(board=41523161203939122082674836131276799, ply_count=1, locs=(43, None)): -92,\n",
       " Isolation(board=41523161203939122082666040038254591, ply_count=1, locs=(44, None)): -84,\n",
       " Isolation(board=41523161203939122082648447852210175, ply_count=1, locs=(45, None)): -76,\n",
       " Isolation(board=41523161203939122082613263480121343, ply_count=1, locs=(46, None)): -84,\n",
       " Isolation(board=41523161203939122082542894735943679, ply_count=1, locs=(47, None)): -86,\n",
       " Isolation(board=41523161203939122082402157247588351, ply_count=1, locs=(48, None)): -92,\n",
       " Isolation(board=41523161203939122082120682270877695, ply_count=1, locs=(49, None)): -82,\n",
       " Isolation(board=41523161203939122078180032596928511, ply_count=1, locs=(52, None)): -82,\n",
       " Isolation(board=41523161203939122073676432969558015, ply_count=1, locs=(53, None)): -86,\n",
       " Isolation(board=41523161203939122064669233714817023, ply_count=1, locs=(54, None)): -74,\n",
       " Isolation(board=41523161203939122046654835205335039, ply_count=1, locs=(55, None)): -94,\n",
       " Isolation(board=41523161203939122010626038186371071, ply_count=1, locs=(56, None)): -90,\n",
       " Isolation(board=41523161203939121938568444148443135, ply_count=1, locs=(57, None)): -84,\n",
       " Isolation(board=41523161203939121794453256072587263, ply_count=1, locs=(58, None)): -74,\n",
       " Isolation(board=41523161203939121506222879920875519, ply_count=1, locs=(59, None)): -86,\n",
       " Isolation(board=41523161203939120929762127617452031, ply_count=1, locs=(60, None)): -86,\n",
       " Isolation(board=41523161203939119776840623010605055, ply_count=1, locs=(61, None)): -82,\n",
       " Isolation(board=41523161203939117470997613796911103, ply_count=1, locs=(62, None)): -72,\n",
       " Isolation(board=41523161203939085189195484805195775, ply_count=1, locs=(65, None)): -86,\n",
       " Isolation(board=41523161203939048295707337386092543, ply_count=1, locs=(66, None)): -90,\n",
       " Isolation(board=41523161203938974508731042547886079, ply_count=1, locs=(67, None)): -86,\n",
       " Isolation(board=41523161203938826934778452871473151, ply_count=1, locs=(68, None)): -84,\n",
       " Isolation(board=41523161203938531786873273518647295, ply_count=1, locs=(69, None)): -84,\n",
       " Isolation(board=41523161203937941491062914812995583, ply_count=1, locs=(70, None)): -78,\n",
       " Isolation(board=41523161203936760899442197401692159, ply_count=1, locs=(71, None)): -80,\n",
       " Isolation(board=41523161203934399716200762579085311, ply_count=1, locs=(72, None)): -84,\n",
       " Isolation(board=41523161203929677349717892933871615, ply_count=1, locs=(73, None)): -84,\n",
       " Isolation(board=41523161203920232616752153643444223, ply_count=1, locs=(74, None)): -86,\n",
       " Isolation(board=41523161203901343150820675062589439, ply_count=1, locs=(75, None)): -84,\n",
       " Isolation(board=41523161203636890627779974930622463, ply_count=1, locs=(78, None)): -88,\n",
       " Isolation(board=41523161203334659172876317636945919, ply_count=1, locs=(79, None)): -92,\n",
       " Isolation(board=41523161202730196263069003049592831, ply_count=1, locs=(80, None)): -86,\n",
       " Isolation(board=41523161201521270443454373874886655, ply_count=1, locs=(81, None)): -90,\n",
       " Isolation(board=41523161199103418804225115525474303, ply_count=1, locs=(82, None)): -84,\n",
       " Isolation(board=41523161194267715525766598826649599, ply_count=1, locs=(83, None)): -86,\n",
       " Isolation(board=41523161184596308968849565429000191, ply_count=1, locs=(84, None)): -88,\n",
       " Isolation(board=41523161165253495855015498633701375, ply_count=1, locs=(85, None)): -78,\n",
       " Isolation(board=41523161126567869627347365043103743, ply_count=1, locs=(86, None)): -88,\n",
       " Isolation(board=41523161049196617172011097861908479, ply_count=1, locs=(87, None)): -84,\n",
       " Isolation(board=41523160894454112261338563499517951, ply_count=1, locs=(88, None)): -90,\n",
       " Isolation(board=41523158728059043511923082426050559, ply_count=1, locs=(91, None)): -82,\n",
       " Isolation(board=41523156252178964941162532627802111, ply_count=1, locs=(92, None)): -86,\n",
       " Isolation(board=41523151300418807799641433031305215, ply_count=1, locs=(93, None)): -88,\n",
       " Isolation(board=41523141396898493516599233838311423, ply_count=1, locs=(94, None)): -88,\n",
       " Isolation(board=41523121589857864950514835452323839, ply_count=1, locs=(95, None)): -88,\n",
       " Isolation(board=41523081975776607818346038680348671, ply_count=1, locs=(96, None)): -82,\n",
       " Isolation(board=41523002747614093554008445136398335, ply_count=1, locs=(97, None)): -92,\n",
       " Isolation(board=41522844291289065025333258048497663, ply_count=1, locs=(98, None)): -86,\n",
       " Isolation(board=41522527378639007967982883872696319, ply_count=1, locs=(99, None)): -86,\n",
       " Isolation(board=41521893553338893853282135521093631, ply_count=1, locs=(100, None)): -88,\n",
       " Isolation(board=41520625902738665623880638817888255, ply_count=1, locs=(101, None)): -90,\n",
       " Isolation(board=41502878794335470412259684973012991, ply_count=1, locs=(104, None)): -82,\n",
       " Isolation(board=41482596384731818741835737721726975, ply_count=1, locs=(105, None)): -78,\n",
       " Isolation(board=41442031565524515400987843219154943, ply_count=1, locs=(106, None)): -86,\n",
       " Isolation(board=41360901927109908719292054214010879, ply_count=1, locs=(107, None)): -90,\n",
       " Isolation(board=41198642650280695355900476203722751, ply_count=1, locs=(108, None)): -90,\n",
       " Isolation(board=40874124096622268629117320183146495, ply_count=1, locs=(109, None)): -94,\n",
       " Isolation(board=40225086989305415175551008141993983, ply_count=1, locs=(110, None)): -86,\n",
       " Isolation(board=38927012774671708268418384059688959, ply_count=1, locs=(111, None)): -84,\n",
       " Isolation(board=36330864345404294454153135895078911, ply_count=1, locs=(112, None)): -84,\n",
       " Isolation(board=31138567486869466825622639565858815, ply_count=1, locs=(113, None)): -88,\n",
       " Isolation(board=20753973769799811568561646907418623, ply_count=1, locs=(114, None)): -74}"
      ]
     },
     "execution_count": 114,
     "metadata": {},
     "output_type": "execute_result"
    }
   ],
   "source": [
    "# import isolation\n",
    "# for board in opening_move_keys:\n",
    "#     board.\n",
    "# print(isolation.DebugState.from_state(opening_move_keys[2]))\n",
    "opening_move_score = {}\n",
    "for board in opening_move_keys:\n",
    "    opening_move_score[board] = simulate(board,100)\n",
    "opening_move_score"
   ]
  },
  {
   "cell_type": "code",
   "execution_count": 115,
   "metadata": {},
   "outputs": [
    {
     "name": "stdout",
     "output_type": "stream",
     "text": [
      "-74\n",
      "\n",
      "+ - + - + - + - + - + - + - + - + - + - + - +\n",
      "|   |   |   |   |   |   |   |   |   |   |   |\n",
      "+ - + - + - + - + - + - + - + - + - + - + - +\n",
      "|   |   |   |   |   |   |   |   |   |   |   |\n",
      "+ - + - + - + - + - + - + - + - + - + - + - +\n",
      "|   |   |   |   |   |   |   |   |   |   |   |\n",
      "+ - + - + - + - + - + - + - + - + - + - + - +\n",
      "|   |   |   |   |   |   |   |   |   |   |   |\n",
      "+ - + - + - + - + - + - + - + - + - + - + - +\n",
      "|   |   |   |   |   |   |   |   |   |   |   |\n",
      "+ - + - + - + - + - + - + - + - + - + - + - +\n",
      "|   |   |   |   |   |   |   |   |   |   |   |\n",
      "+ - + - + - + - + - + - + - + - + - + - + - +\n",
      "|   |   |   |   |   |   |   |   |   |   |   |\n",
      "+ - + - + - + - + - + - + - + - + - + - + - +\n",
      "|   |   |   |   |   |   |   | 1 |   |   |   |\n",
      "+ - + - + - + - + - + - + - + - + - + - + - +\n",
      "|   |   |   |   |   |   |   |   |   |   |   |\n",
      "+ - + - + - + - + - + - + - + - + - + - + - +\n",
      "\n",
      "-74\n",
      "\n",
      "+ - + - + - + - + - + - + - + - + - + - + - +\n",
      "|   |   |   |   |   |   |   |   |   |   |   |\n",
      "+ - + - + - + - + - + - + - + - + - + - + - +\n",
      "|   |   |   |   |   |   |   |   |   |   |   |\n",
      "+ - + - + - + - + - + - + - + - + - + - + - +\n",
      "|   |   |   |   |   |   |   |   |   |   |   |\n",
      "+ - + - + - + - + - + - + - + - + - + - + - +\n",
      "|   |   |   |   |   |   |   |   |   |   |   |\n",
      "+ - + - + - + - + - + - + - + - + - + - + - +\n",
      "|   |   |   |   |   |   |   |   | 1 |   |   |\n",
      "+ - + - + - + - + - + - + - + - + - + - + - +\n",
      "|   |   |   |   |   |   |   |   |   |   |   |\n",
      "+ - + - + - + - + - + - + - + - + - + - + - +\n",
      "|   |   |   |   |   |   |   |   |   |   |   |\n",
      "+ - + - + - + - + - + - + - + - + - + - + - +\n",
      "|   |   |   |   |   |   |   |   |   |   |   |\n",
      "+ - + - + - + - + - + - + - + - + - + - + - +\n",
      "|   |   |   |   |   |   |   |   |   |   |   |\n",
      "+ - + - + - + - + - + - + - + - + - + - + - +\n",
      "\n",
      "-74\n",
      "\n",
      "+ - + - + - + - + - + - + - + - + - + - + - +\n",
      "|   |   |   |   |   |   |   |   |   |   |   |\n",
      "+ - + - + - + - + - + - + - + - + - + - + - +\n",
      "|   |   |   |   |   |   |   |   |   |   |   |\n",
      "+ - + - + - + - + - + - + - + - + - + - + - +\n",
      "|   |   |   |   |   |   |   |   |   |   |   |\n",
      "+ - + - + - + - + - + - + - + - + - + - + - +\n",
      "|   |   |   |   |   |   |   |   |   |   |   |\n",
      "+ - + - + - + - + - + - + - + - + - + - + - +\n",
      "|   |   |   |   | 1 |   |   |   |   |   |   |\n",
      "+ - + - + - + - + - + - + - + - + - + - + - +\n",
      "|   |   |   |   |   |   |   |   |   |   |   |\n",
      "+ - + - + - + - + - + - + - + - + - + - + - +\n",
      "|   |   |   |   |   |   |   |   |   |   |   |\n",
      "+ - + - + - + - + - + - + - + - + - + - + - +\n",
      "|   |   |   |   |   |   |   |   |   |   |   |\n",
      "+ - + - + - + - + - + - + - + - + - + - + - +\n",
      "|   |   |   |   |   |   |   |   |   |   |   |\n",
      "+ - + - + - + - + - + - + - + - + - + - + - +\n",
      "\n",
      "-74\n",
      "\n",
      "+ - + - + - + - + - + - + - + - + - + - + - +\n",
      "| 1 |   |   |   |   |   |   |   |   |   |   |\n",
      "+ - + - + - + - + - + - + - + - + - + - + - +\n",
      "|   |   |   |   |   |   |   |   |   |   |   |\n",
      "+ - + - + - + - + - + - + - + - + - + - + - +\n",
      "|   |   |   |   |   |   |   |   |   |   |   |\n",
      "+ - + - + - + - + - + - + - + - + - + - + - +\n",
      "|   |   |   |   |   |   |   |   |   |   |   |\n",
      "+ - + - + - + - + - + - + - + - + - + - + - +\n",
      "|   |   |   |   |   |   |   |   |   |   |   |\n",
      "+ - + - + - + - + - + - + - + - + - + - + - +\n",
      "|   |   |   |   |   |   |   |   |   |   |   |\n",
      "+ - + - + - + - + - + - + - + - + - + - + - +\n",
      "|   |   |   |   |   |   |   |   |   |   |   |\n",
      "+ - + - + - + - + - + - + - + - + - + - + - +\n",
      "|   |   |   |   |   |   |   |   |   |   |   |\n",
      "+ - + - + - + - + - + - + - + - + - + - + - +\n",
      "|   |   |   |   |   |   |   |   |   |   |   |\n",
      "+ - + - + - + - + - + - + - + - + - + - + - +\n",
      "\n",
      "-72\n",
      "\n",
      "+ - + - + - + - + - + - + - + - + - + - + - +\n",
      "|   |   |   |   |   |   |   |   |   |   |   |\n",
      "+ - + - + - + - + - + - + - + - + - + - + - +\n",
      "|   |   |   |   |   |   |   |   |   |   |   |\n",
      "+ - + - + - + - + - + - + - + - + - + - + - +\n",
      "|   |   |   |   |   |   |   |   |   |   |   |\n",
      "+ - + - + - + - + - + - + - + - + - + - + - +\n",
      "|   |   |   |   |   |   |   |   |   |   |   |\n",
      "+ - + - + - + - + - + - + - + - + - + - + - +\n",
      "| 1 |   |   |   |   |   |   |   |   |   |   |\n",
      "+ - + - + - + - + - + - + - + - + - + - + - +\n",
      "|   |   |   |   |   |   |   |   |   |   |   |\n",
      "+ - + - + - + - + - + - + - + - + - + - + - +\n",
      "|   |   |   |   |   |   |   |   |   |   |   |\n",
      "+ - + - + - + - + - + - + - + - + - + - + - +\n",
      "|   |   |   |   |   |   |   |   |   |   |   |\n",
      "+ - + - + - + - + - + - + - + - + - + - + - +\n",
      "|   |   |   |   |   |   |   |   |   |   |   |\n",
      "+ - + - + - + - + - + - + - + - + - + - + - +\n",
      "\n"
     ]
    }
   ],
   "source": [
    "# top 5 states\n",
    "import collections\n",
    "\n",
    "sorted_opening_moves = collections.OrderedDict(sorted(opening_move_score.items(), key=lambda kv: kv[1]))\n",
    "for board in list(sorted_opening_moves.keys())[-5:]:\n",
    "    print(sorted_opening_moves[board])\n",
    "    print(isolation.DebugState.from_state(board))\n",
    "\n",
    "# isolation.DebugState.from_state()"
   ]
  },
  {
   "cell_type": "code",
   "execution_count": 116,
   "metadata": {},
   "outputs": [
    {
     "name": "stdout",
     "output_type": "stream",
     "text": [
      "-100\n",
      "\n",
      "+ - + - + - + - + - + - + - + - + - + - + - +\n",
      "|   |   |   |   |   |   |   |   |   |   |   |\n",
      "+ - + - + - + - + - + - + - + - + - + - + - +\n",
      "|   |   |   |   |   |   |   |   |   |   |   |\n",
      "+ - + - + - + - + - + - + - + - + - + - + - +\n",
      "|   |   |   |   |   |   |   |   |   |   |   |\n",
      "+ - + - + - + - + - + - + - + - + - + - + - +\n",
      "|   |   |   |   |   |   |   |   |   |   |   |\n",
      "+ - + - + - + - + - + - + - + - + - + - + - +\n",
      "|   |   |   |   |   |   |   |   |   |   |   |\n",
      "+ - + - + - + - + - + - + - + - + - + - + - +\n",
      "|   |   |   |   |   |   |   |   |   |   |   |\n",
      "+ - + - + - + - + - + - + - + - + - + - + - +\n",
      "|   |   |   |   |   |   |   |   |   |   |   |\n",
      "+ - + - + - + - + - + - + - + - + - + - + - +\n",
      "|   |   |   |   |   |   | 1 |   |   |   |   |\n",
      "+ - + - + - + - + - + - + - + - + - + - + - +\n",
      "|   |   |   |   |   |   |   |   |   |   |   |\n",
      "+ - + - + - + - + - + - + - + - + - + - + - +\n",
      "\n",
      "-94\n",
      "\n",
      "+ - + - + - + - + - + - + - + - + - + - + - +\n",
      "|   |   |   |   |   |   |   |   |   |   |   |\n",
      "+ - + - + - + - + - + - + - + - + - + - + - +\n",
      "|   |   |   |   |   |   |   |   |   |   |   |\n",
      "+ - + - + - + - + - + - + - + - + - + - + - +\n",
      "|   |   |   |   |   |   |   |   |   |   |   |\n",
      "+ - + - + - + - + - + - + - + - + - + - + - +\n",
      "|   |   |   |   |   |   |   |   |   |   |   |\n",
      "+ - + - + - + - + - + - + - + - + - + - + - +\n",
      "|   |   |   |   |   |   |   |   |   |   |   |\n",
      "+ - + - + - + - + - + - + - + - + - + - + - +\n",
      "|   |   |   |   |   |   |   |   |   |   |   |\n",
      "+ - + - + - + - + - + - + - + - + - + - + - +\n",
      "|   |   |   |   |   |   |   | 1 |   |   |   |\n",
      "+ - + - + - + - + - + - + - + - + - + - + - +\n",
      "|   |   |   |   |   |   |   |   |   |   |   |\n",
      "+ - + - + - + - + - + - + - + - + - + - + - +\n",
      "|   |   |   |   |   |   |   |   |   |   |   |\n",
      "+ - + - + - + - + - + - + - + - + - + - + - +\n",
      "\n",
      "-94\n",
      "\n",
      "+ - + - + - + - + - + - + - + - + - + - + - +\n",
      "|   |   |   |   |   |   |   |   |   |   |   |\n",
      "+ - + - + - + - + - + - + - + - + - + - + - +\n",
      "|   |   |   |   |   |   |   |   |   |   |   |\n",
      "+ - + - + - + - + - + - + - + - + - + - + - +\n",
      "|   |   |   |   |   |   |   |   |   |   |   |\n",
      "+ - + - + - + - + - + - + - + - + - + - + - +\n",
      "|   |   |   |   |   |   |   |   |   |   |   |\n",
      "+ - + - + - + - + - + - + - + - + - + - + - +\n",
      "|   |   |   |   |   |   |   |   |   |   |   |\n",
      "+ - + - + - + - + - + - + - + - + - + - + - +\n",
      "|   |   |   |   |   |   |   |   |   |   |   |\n",
      "+ - + - + - + - + - + - + - + - + - + - + - +\n",
      "|   | 1 |   |   |   |   |   |   |   |   |   |\n",
      "+ - + - + - + - + - + - + - + - + - + - + - +\n",
      "|   |   |   |   |   |   |   |   |   |   |   |\n",
      "+ - + - + - + - + - + - + - + - + - + - + - +\n",
      "|   |   |   |   |   |   |   |   |   |   |   |\n",
      "+ - + - + - + - + - + - + - + - + - + - + - +\n",
      "\n",
      "-94\n",
      "\n",
      "+ - + - + - + - + - + - + - + - + - + - + - +\n",
      "|   |   |   |   |   |   |   |   |   |   |   |\n",
      "+ - + - + - + - + - + - + - + - + - + - + - +\n",
      "|   |   |   |   |   |   |   |   |   |   |   |\n",
      "+ - + - + - + - + - + - + - + - + - + - + - +\n",
      "|   |   |   |   |   |   |   |   |   |   |   |\n",
      "+ - + - + - + - + - + - + - + - + - + - + - +\n",
      "|   |   |   |   |   |   |   |   |   |   |   |\n",
      "+ - + - + - + - + - + - + - + - + - + - + - +\n",
      "|   |   |   |   |   |   |   | 1 |   |   |   |\n",
      "+ - + - + - + - + - + - + - + - + - + - + - +\n",
      "|   |   |   |   |   |   |   |   |   |   |   |\n",
      "+ - + - + - + - + - + - + - + - + - + - + - +\n",
      "|   |   |   |   |   |   |   |   |   |   |   |\n",
      "+ - + - + - + - + - + - + - + - + - + - + - +\n",
      "|   |   |   |   |   |   |   |   |   |   |   |\n",
      "+ - + - + - + - + - + - + - + - + - + - + - +\n",
      "|   |   |   |   |   |   |   |   |   |   |   |\n",
      "+ - + - + - + - + - + - + - + - + - + - + - +\n",
      "\n",
      "-94\n",
      "\n",
      "+ - + - + - + - + - + - + - + - + - + - + - +\n",
      "|   |   |   |   |   | 1 |   |   |   |   |   |\n",
      "+ - + - + - + - + - + - + - + - + - + - + - +\n",
      "|   |   |   |   |   |   |   |   |   |   |   |\n",
      "+ - + - + - + - + - + - + - + - + - + - + - +\n",
      "|   |   |   |   |   |   |   |   |   |   |   |\n",
      "+ - + - + - + - + - + - + - + - + - + - + - +\n",
      "|   |   |   |   |   |   |   |   |   |   |   |\n",
      "+ - + - + - + - + - + - + - + - + - + - + - +\n",
      "|   |   |   |   |   |   |   |   |   |   |   |\n",
      "+ - + - + - + - + - + - + - + - + - + - + - +\n",
      "|   |   |   |   |   |   |   |   |   |   |   |\n",
      "+ - + - + - + - + - + - + - + - + - + - + - +\n",
      "|   |   |   |   |   |   |   |   |   |   |   |\n",
      "+ - + - + - + - + - + - + - + - + - + - + - +\n",
      "|   |   |   |   |   |   |   |   |   |   |   |\n",
      "+ - + - + - + - + - + - + - + - + - + - + - +\n",
      "|   |   |   |   |   |   |   |   |   |   |   |\n",
      "+ - + - + - + - + - + - + - + - + - + - + - +\n",
      "\n"
     ]
    }
   ],
   "source": [
    "# worst 5 choices\n",
    "import collections\n",
    "\n",
    "sorted_opening_moves = collections.OrderedDict(sorted(opening_move_score.items(), key=lambda kv: kv[1]))\n",
    "for board in list(sorted_opening_moves.keys())[:5]:\n",
    "    print(sorted_opening_moves[board])\n",
    "    print(isolation.DebugState.from_state(board))"
   ]
  },
  {
   "cell_type": "code",
   "execution_count": null,
   "metadata": {},
   "outputs": [],
   "source": []
  }
 ],
 "metadata": {
  "kernelspec": {
   "display_name": "Python 3",
   "language": "python",
   "name": "python3"
  },
  "language_info": {
   "codemirror_mode": {
    "name": "ipython",
    "version": 3
   },
   "file_extension": ".py",
   "mimetype": "text/x-python",
   "name": "python",
   "nbconvert_exporter": "python",
   "pygments_lexer": "ipython3",
   "version": "3.6.9"
  }
 },
 "nbformat": 4,
 "nbformat_minor": 2
}
